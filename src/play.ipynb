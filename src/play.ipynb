{
 "cells": [
  {
   "cell_type": "code",
   "execution_count": 1,
   "metadata": {},
   "outputs": [
    {
     "data": {
      "text/plain": [
       "'I have an image. Given an instruction to edit the image, carefully generate a description of the edited image.'"
      ]
     },
     "execution_count": 1,
     "metadata": {},
     "output_type": "execute_result"
    }
   ],
   "source": [
    "\"I have an image. Given an instruction to edit the image, carefully generate a description of the edited image.\""
   ]
  },
  {
   "cell_type": "code",
   "execution_count": 2,
   "metadata": {},
   "outputs": [
    {
     "name": "stdout",
     "output_type": "stream",
     "text": [
      "I will put my image content beginning with \"Image Content:\". The instruction I provide will begin with \"Instruction:\". The edited description you generate should begin with \"Edited Description:\". You just generate one edited description only begin with \"Edited Description:\". The edited description needs to be as simple as possible and only reflects image content. Just one line.\n",
      "A example:\n",
      "Image Content: a man adjusting a woman's tie.\n",
      "Instruction: has the woman and the man with the roles switched.\n",
      "Edited Description: a woman adjusting a man's tie.\n",
      "\n",
      "Image Content: {}\n",
      "Instruction: {}\n",
      "Edited Description:\n"
     ]
    }
   ],
   "source": [
    "print(\"I will put my image content beginning with \\\"Image Content:\\\". The instruction I provide will begin with \\\"Instruction:\\\". The edited description you generate should begin with \\\"Edited Description:\\\". You just generate one edited description only begin with \\\"Edited Description:\\\". The edited description needs to be as simple as possible and only reflects image content. Just one line.\\nA example:\\nImage Content: a man adjusting a woman's tie.\\nInstruction: has the woman and the man with the roles switched.\\nEdited Description: a woman adjusting a man's tie.\\n\\nImage Content: {}\\nInstruction: {}\\nEdited Description:\")"
   ]
  },
  {
   "cell_type": "code",
   "execution_count": null,
   "metadata": {},
   "outputs": [],
   "source": [
    "\"You are given a textual description of an image called 'Image Content' and a textual instruction to edit the image called 'Instruction'. Imagine the image based on the image content and edit the image based on the instruction. Then, generate a textual description of the edited image.\""
   ]
  },
  {
   "cell_type": "code",
   "execution_count": 12,
   "metadata": {},
   "outputs": [],
   "source": [
    "def first_diff(s: str, t: str) -> int:\n",
    "    \"\"\"Return the first index where s and t differ, or –1 if they’re identical.\"\"\"\n",
    "    # walk both in lock-step\n",
    "    for i, (a, b) in enumerate(zip(s, t)):\n",
    "        if a != b:\n",
    "            return i\n",
    "    # one may be a prefix of the other\n",
    "    if len(s) != len(t):\n",
    "        return min(len(s), len(t))\n",
    "    # no differences\n",
    "    return -1\n",
    "\n"
   ]
  },
  {
   "cell_type": "code",
   "execution_count": 14,
   "metadata": {},
   "outputs": [
    {
     "data": {
      "text/plain": [
       "-1"
      ]
     },
     "execution_count": 14,
     "metadata": {},
     "output_type": "execute_result"
    }
   ],
   "source": [
    "usr1 = \"I will put my image content beginning with \\\"Image Content:\\\". The instruction I provide will begin with \\\"Instruction:\\\". The edited description you generate should begin with \\\"Edited Description:\\\". You just generate one edited description only begin with \\\"Edited Description:\\\". The edited description needs to be as simple as possible and only reflects image content. Just one line.\\nA example:\\nImage Content: a man adjusting a woman's tie.\\nInstruction: has the woman and the man with the roles switched.\\nEdited Description: a woman adjusting a man's tie.\\n\\nImage Content: {}\\nInstruction: {}\\nEdited Description:\"\n",
    "usr2 = \"I will put my image content beginning with \\\"Image Content:\\\". The instruction I provide will begin with \\\"Instruction:\\\". The edited description you generate should begin with \\\"Edited Description:\\\". You just generate one edited description only begin with \\\"Edited Description:\\\". The edited description needs to be as simple as possible and only reflects image content. Just one line.\\nA example:\\nImage Content: a man adjusting a woman's tie.\\nInstruction: has the woman and the man with the roles switched.\\nEdited Description: a woman adjusting a man's tie.\\n\\nImage Content: {}\\nInstruction: {}\\nEdited Description:\"\n",
    "first_diff(usr1, usr2)"
   ]
  },
  {
   "cell_type": "markdown",
   "metadata": {},
   "source": [
    "----------------------------------"
   ]
  },
  {
   "cell_type": "code",
   "execution_count": 5,
   "metadata": {},
   "outputs": [
    {
     "name": "stderr",
     "output_type": "stream",
     "text": [
      "usage: ipykernel_launcher.py [-h] [--dataset {cirr,circo,fashioniq}]\n",
      "                             [--dataset_path DATASET_PATH]\n",
      "                             [--model_type {SEIZE-B,SEIZE-L,SEIZE-H,SEIZE-g,SEIZE-G,SEIZE-CoCa-B,SEIZE-CoCa-L}]\n",
      "                             [--gpt_version {gpt-3.5,gpt-4,gpt-4o}]\n",
      "                             [--submission_name SUBMISSION_NAME]\n",
      "                             [--caption_type {none,t5,opt}]\n",
      "                             [--nums_caption NUMS_CAPTION]\n",
      "                             [--use_momentum_strategy USE_MOMENTUM_STRATEGY]\n",
      "                             [--pos_factor POS_FACTOR]\n",
      "                             [--neg_factor NEG_FACTOR]\n",
      "ipykernel_launcher.py: error: unrecognized arguments: --f=/home/hanyuan/.local/share/jupyter/runtime/kernel-v38dcc82f40ec1688c3592fb04c4d3de6ec39dc1bd.json\n"
     ]
    },
    {
     "ename": "SystemExit",
     "evalue": "2",
     "output_type": "error",
     "traceback": [
      "An exception has occurred, use %tb to see the full traceback.\n",
      "\u001b[0;31mSystemExit\u001b[0m\u001b[0;31m:\u001b[0m 2\n"
     ]
    }
   ],
   "source": [
    "from utils import targetpad_transform\n",
    "from datasets import FashionIQDataset"
   ]
  },
  {
   "cell_type": "code",
   "execution_count": null,
   "metadata": {},
   "outputs": [],
   "source": [
    "dataset_path = \"FashionIQ_multi_opt_gpt35_5_p1\"\n",
    "dress_type = \"shirt\"\n",
    "preprocess = targetpad_transform(1.25, 224)\n",
    "relative_val_dataset = FashionIQDataset(\n",
    "    dataset_path, \n",
    "    'val', \n",
    "    [dress_type], \n",
    "    'relative', \n",
    "    preprocess\n",
    ")"
   ]
  }
 ],
 "metadata": {
  "kernelspec": {
   "display_name": "SEIZE1",
   "language": "python",
   "name": "python3"
  },
  "language_info": {
   "codemirror_mode": {
    "name": "ipython",
    "version": 3
   },
   "file_extension": ".py",
   "mimetype": "text/x-python",
   "name": "python",
   "nbconvert_exporter": "python",
   "pygments_lexer": "ipython3",
   "version": "3.9.19"
  }
 },
 "nbformat": 4,
 "nbformat_minor": 2
}
